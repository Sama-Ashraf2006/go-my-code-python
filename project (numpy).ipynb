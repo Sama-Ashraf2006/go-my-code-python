{
 "cells": [
  {
   "cell_type": "code",
   "execution_count": 40,
   "id": "6b7c6e90",
   "metadata": {},
   "outputs": [
    {
     "name": "stdout",
     "output_type": "stream",
     "text": [
      "num of student 2\n",
      "num of subj 3\n",
      "num of marks 15\n",
      "num of marks 50\n",
      "num of marks 80\n",
      "[15. 50. 80.]\n",
      "num of marks 91\n",
      "num of marks 70\n",
      "num of marks 80\n",
      "[91. 70. 80.]\n",
      "[[15. 50. 80.]\n",
      " [91. 70. 80.]]\n",
      "[145. 241.]\n",
      "fail\n"
     ]
    }
   ],
   "source": [
    "import numpy as np \n",
    "x=int(input(\"num of student \"))\n",
    "y=int(input(\"num of subj \"))\n",
    "k=np.array([])\n",
    "for i in range (x):\n",
    "    temparray=np.array([])\n",
    "    for j in range(y):\n",
    "        temp=int(input(\"num of marks \"))\n",
    "        temparray = np.append(temparray,temp)\n",
    "    print(temparray)\n",
    "    k = np.concatenate((k,temparray))\n",
    "k = k.reshape(x,y)\n",
    "print(k)\n",
    "o=np.sum(k,axis=1)\n",
    "print(o)\n",
    "if j >=90:\n",
    "    print(\"A+\")\n",
    "elif j >=80:\n",
    "    print(\"A\")\n",
    "elif j >=70:\n",
    "    print(\"B+\")\n",
    "elif j >= 60:\n",
    "    print(\"B\")\n",
    "elif j>= 50:\n",
    "    print(\"c\")\n",
    "else:\n",
    "    print(\"fail\")\n"
   ]
  }
 ],
 "metadata": {
  "kernelspec": {
   "display_name": "Python 3 (ipykernel)",
   "language": "python",
   "name": "python3"
  },
  "language_info": {
   "codemirror_mode": {
    "name": "ipython",
    "version": 3
   },
   "file_extension": ".py",
   "mimetype": "text/x-python",
   "name": "python",
   "nbconvert_exporter": "python",
   "pygments_lexer": "ipython3",
   "version": "3.9.12"
  }
 },
 "nbformat": 4,
 "nbformat_minor": 5
}
