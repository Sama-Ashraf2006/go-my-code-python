{
 "cells": [
  {
   "cell_type": "code",
   "execution_count": 54,
   "id": "7fdad288",
   "metadata": {},
   "outputs": [
    {
     "data": {
      "text/plain": [
       "(2, 8, 5)"
      ]
     },
     "execution_count": 54,
     "metadata": {},
     "output_type": "execute_result"
    }
   ],
   "source": [
    "#question 1\n",
    "class point3D:\n",
    "    def __init__(self,x,y,z):\n",
    "        self.x=x\n",
    "        self.y=y\n",
    "        self.z=z\n",
    "    def name(self):\n",
    "        return(self.x,self.y,self.z)\n",
    "        self.x=x\n",
    "        self.y=y\n",
    "        self.z=z\n",
    "k = point3D(2,8,5)\n",
    "k.name()\n",
    "\n",
    "        "
   ]
  },
  {
   "cell_type": "code",
   "execution_count": 40,
   "id": "3295f9e7",
   "metadata": {},
   "outputs": [
    {
     "name": "stdout",
     "output_type": "stream",
     "text": [
      "120\n",
      "44\n"
     ]
    }
   ],
   "source": [
    "#question 2\n",
    "class rectangle:\n",
    "    def __init__(self,x,y):\n",
    "        self.x=x\n",
    "        self.y=y\n",
    "    def area(self):\n",
    "        return(self.x*self.y)\n",
    "    def perimeter(self):\n",
    "        return((self.x+self.y)*2)\n",
    "rec1 = rectangle(10 , 12)\n",
    "print(rec1 . area())\n",
    "print(rec1 . perimeter())\n"
   ]
  },
  {
   "cell_type": "code",
   "execution_count": 45,
   "id": "9d0744cd",
   "metadata": {},
   "outputs": [
    {
     "name": "stdout",
     "output_type": "stream",
     "text": [
      "12.56\n",
      "25.12\n"
     ]
    }
   ],
   "source": [
    "#question 3\n",
    "class circle:\n",
    "    def __init__(self , center , radius):\n",
    "        self.center= center\n",
    "        self.radius= radius\n",
    "    def area(self):\n",
    "        return(3.14* self.radius)\n",
    "    def perimeter(self):\n",
    "        return(2*3.14*self.radius)\n",
    "c1 = circle(0,4)\n",
    "print(c1. area())\n",
    "print(c1. perimeter())\n"
   ]
  },
  {
   "cell_type": "code",
   "execution_count": 4,
   "id": "31a1432d",
   "metadata": {},
   "outputs": [
    {
     "name": "stdout",
     "output_type": "stream",
     "text": [
      "Hello!!! Welcome to the Deposit & Withdrawal Machine\n",
      "Enter amount to be Deposited: 1477\n",
      "\n",
      " Amount Deposited: 1477.0\n",
      "Enter amount to be Withdrawn: 477\n",
      "\n",
      " You Withdrew: 477.0\n",
      "\n",
      " Net Available Balance= 1000.0\n"
     ]
    }
   ],
   "source": [
    "#question 4\n",
    "class Bank_Account:\n",
    "    def __init__(self):\n",
    "        self.balance=0\n",
    "        print(\"Hello!!! Welcome to the Deposit & Withdrawal Machine\")\n",
    " \n",
    "    def deposit(self):\n",
    "        amount=float(input(\"Enter amount to be Deposited: \"))\n",
    "        self.balance += amount\n",
    "        print(\"\\n Amount Deposited:\",amount)\n",
    " \n",
    "    def withdraw(self):\n",
    "        amount = float(input(\"Enter amount to be Withdrawn: \"))\n",
    "        if self.balance>=amount:\n",
    "            self.balance-=amount\n",
    "            print(\"\\n You Withdrew:\", amount)\n",
    "        else:\n",
    "            print(\"\\n Insufficient balance  \")\n",
    " \n",
    "    def display(self):\n",
    "        print(\"\\n Net Available Balance=\",self.balance)\n",
    " \n",
    "# Driver code\n",
    "  \n",
    "# creating an object of class\n",
    "s = Bank_Account()\n",
    "  \n",
    "# Calling functions with that class object\n",
    "s.deposit()\n",
    "s.withdraw()\n",
    "s.display()"
   ]
  },
  {
   "cell_type": "code",
   "execution_count": null,
   "id": "72a54dac",
   "metadata": {},
   "outputs": [],
   "source": []
  }
 ],
 "metadata": {
  "kernelspec": {
   "display_name": "Python 3 (ipykernel)",
   "language": "python",
   "name": "python3"
  },
  "language_info": {
   "codemirror_mode": {
    "name": "ipython",
    "version": 3
   },
   "file_extension": ".py",
   "mimetype": "text/x-python",
   "name": "python",
   "nbconvert_exporter": "python",
   "pygments_lexer": "ipython3",
   "version": "3.9.12"
  }
 },
 "nbformat": 4,
 "nbformat_minor": 5
}
