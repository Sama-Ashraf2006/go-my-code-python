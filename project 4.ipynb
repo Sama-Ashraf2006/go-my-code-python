{
 "cells": [
  {
   "cell_type": "code",
   "execution_count": 9,
   "id": "c08ba706",
   "metadata": {},
   "outputs": [
    {
     "name": "stdout",
     "output_type": "stream",
     "text": [
      "80\n"
     ]
    }
   ],
   "source": [
    "#question 1\n",
    "x=19\n",
    "y=80\n",
    "z=15\n",
    "max_v=max(x,y,z)\n",
    "print(max_v)\n",
    "    "
   ]
  },
  {
   "cell_type": "code",
   "execution_count": 2,
   "id": "50d6773b",
   "metadata": {},
   "outputs": [
    {
     "data": {
      "text/plain": [
       "35"
      ]
     },
     "execution_count": 2,
     "metadata": {},
     "output_type": "execute_result"
    }
   ],
   "source": [
    "#question 1\n",
    "x=[20,19,35]\n",
    "max_v=max(x)\n",
    "max_v"
   ]
  },
  {
   "cell_type": "code",
   "execution_count": 4,
   "id": "a56f1693",
   "metadata": {},
   "outputs": [
    {
     "data": {
      "text/plain": [
       "(370, 230)"
      ]
     },
     "execution_count": 4,
     "metadata": {},
     "output_type": "execute_result"
    }
   ],
   "source": [
    "#question 2\n",
    "result = lambda x,y : (x+y,x-y)\n",
    "result(300,70)"
   ]
  },
  {
   "cell_type": "code",
   "execution_count": 33,
   "id": "7fe9653b",
   "metadata": {},
   "outputs": [
    {
     "name": "stdout",
     "output_type": "stream",
     "text": [
      "5\n",
      "6\n",
      "9\n",
      "11\n"
     ]
    }
   ],
   "source": [
    "#question 3\n",
    "l1=[1,2,5,7]\n",
    "x = 0\n",
    "y=len(l1)  #(4)\n",
    "for i in (l1):\n",
    "    print(i+y)\n"
   ]
  },
  {
   "cell_type": "code",
   "execution_count": 45,
   "id": "b2ef9943",
   "metadata": {},
   "outputs": [
    {
     "name": "stdout",
     "output_type": "stream",
     "text": [
      "4\n",
      "8\n",
      "20\n",
      "28\n"
     ]
    }
   ],
   "source": [
    "#question 3\n",
    "l1=[1,2,5,7]\n",
    "x = 0\n",
    "y=len(l1)\n",
    "for i in (l1):\n",
    "    print(i*y)"
   ]
  },
  {
   "cell_type": "code",
   "execution_count": 43,
   "id": "ca9b6c32",
   "metadata": {},
   "outputs": [
    {
     "name": "stdout",
     "output_type": "stream",
     "text": [
      "4\n",
      "36\n",
      "64\n",
      "100\n"
     ]
    }
   ],
   "source": [
    "x=[1,2,6,5,8,7,10]\n",
    "for i in (x):\n",
    "    if i%2==0:\n",
    "        print(i*i)"
   ]
  },
  {
   "cell_type": "code",
   "execution_count": 46,
   "id": "e792db93",
   "metadata": {},
   "outputs": [
    {
     "data": {
      "text/plain": [
       "[6, 3, 10]"
      ]
     },
     "execution_count": 46,
     "metadata": {},
     "output_type": "execute_result"
    }
   ],
   "source": [
    "tuple1=(1,2,3)\n",
    "tuple2=(5,1,7)\n",
    "result=list(map(lambda x,y : x+y ,tuple1 , tuple2))\n",
    "result"
   ]
  },
  {
   "cell_type": "code",
   "execution_count": 3,
   "id": "676465ae",
   "metadata": {},
   "outputs": [
    {
     "name": "stdout",
     "output_type": "stream",
     "text": [
      "2\n",
      "4\n",
      "6\n"
     ]
    }
   ],
   "source": [
    "#question 3\n",
    "l1=[1,2,5,7,4,6]\n",
    "x = 0\n",
    "y=len(l1)  #(4)\n",
    "for i in (l1):\n",
    "    if  i%2== 0:\n",
    "        u=0\n",
    "        print(i+u)  "
   ]
  },
  {
   "cell_type": "code",
   "execution_count": 1,
   "id": "56bb835b",
   "metadata": {},
   "outputs": [
    {
     "name": "stdout",
     "output_type": "stream",
     "text": [
      "Sasa\n",
      "Haha\n",
      "Yaya\n",
      "Papa\n",
      "Iaia\n",
      "Qaqa\n",
      "Mama\n",
      "Vava\n",
      "Xaxa\n",
      "Uaua\n"
     ]
    }
   ],
   "source": [
    "#question 4\n",
    "def my_dict(s):\n",
    "    for i in s:\n",
    "        print(s[i].title())\n",
    "s={\"dada\":\"sasa\" , \"fafa\":\"haha\", \"gaga\":\"yaya\" , \"tata\":\"papa\" , \"oaoa\":\"iaia\" , \"wawa\":\"qaqa\" , \n",
    "   \"kaka\":\"mama\" , \"nana\":\"vava\" , \"caca\":\"xaxa\" , \"zaza\":\"uaua\" }\n",
    "my_dict(s)"
   ]
  },
  {
   "cell_type": "code",
   "execution_count": 19,
   "id": "679d4644",
   "metadata": {},
   "outputs": [
    {
     "name": "stdout",
     "output_type": "stream",
     "text": [
      "the word is: animal and the length is 6\n"
     ]
    }
   ],
   "source": [
    "#question 5\n",
    "def my_dict(q):\n",
    "    x=len(q)\n",
    "    y=[q]\n",
    "    for i in q:\n",
    "        if (len(i) > x):\n",
    "            x=len(i)\n",
    "            y=i \n",
    "    print(\"the word is:\", y ,\"and the length is\", x)\n",
    "q={\"lion\":\"bees\" ,\"animal\":\"tigar\",\"giraff\":\"cat\",\"monkey\":\"dog\"}     \n",
    "my_dict(q)  \n",
    "       \n",
    "        \n",
    "        \n",
    "        "
   ]
  },
  {
   "cell_type": "code",
   "execution_count": 61,
   "id": "c8aac7a4",
   "metadata": {},
   "outputs": [
    {
     "name": "stdout",
     "output_type": "stream",
     "text": [
      "enter a string : green-red-yellow-black-white\n",
      "['black', 'green', 'red', 'white', 'yellow']\n"
     ]
    }
   ],
   "source": [
    "#question 6\n",
    "my_string=input(\"enter a string : \")\n",
    "my_string=my_string.split(\"-\")\n",
    "my_string.sort()\n",
    "print(my_string)\n",
    "\n"
   ]
  },
  {
   "cell_type": "code",
   "execution_count": 10,
   "id": "d44c363f",
   "metadata": {},
   "outputs": [],
   "source": []
  }
 ],
 "metadata": {
  "kernelspec": {
   "display_name": "Python 3 (ipykernel)",
   "language": "python",
   "name": "python3"
  },
  "language_info": {
   "codemirror_mode": {
    "name": "ipython",
    "version": 3
   },
   "file_extension": ".py",
   "mimetype": "text/x-python",
   "name": "python",
   "nbconvert_exporter": "python",
   "pygments_lexer": "ipython3",
   "version": "3.9.12"
  }
 },
 "nbformat": 4,
 "nbformat_minor": 5
}
