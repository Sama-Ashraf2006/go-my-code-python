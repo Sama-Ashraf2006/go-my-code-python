{
 "cells": [
  {
   "cell_type": "code",
   "execution_count": 40,
   "id": "9924750b",
   "metadata": {
    "scrolled": true
   },
   "outputs": [
    {
     "data": {
      "text/plain": [
       "['hello my dears\\n',\n",
       " 'how are you \\n',\n",
       " 'I love you\\n',\n",
       " 'I wish you the best\\n',\n",
       " 'how old are you\\n',\n",
       " 'would you like to eat\\n',\n",
       " 'what is your favorite food\\n',\n",
       " 'I want to dance with you\\n',\n",
       " 'do you want to drink a coffee\\n',\n",
       " '\\n']"
      ]
     },
     "execution_count": 40,
     "metadata": {},
     "output_type": "execute_result"
    }
   ],
   "source": [
    "#question 1\n",
    "f = open(\"sama.txt\")\n",
    "f.readlines()"
   ]
  },
  {
   "cell_type": "code",
   "execution_count": 41,
   "id": "80058dcf",
   "metadata": {},
   "outputs": [
    {
     "name": "stdout",
     "output_type": "stream",
     "text": [
      "hello my dears\n",
      "\n"
     ]
    }
   ],
   "source": [
    "#question 2\n",
    "f = open(\"sama.txt\")\n",
    "print(f.readline())"
   ]
  },
  {
   "cell_type": "code",
   "execution_count": 47,
   "id": "526eb9d9",
   "metadata": {},
   "outputs": [
    {
     "name": "stdout",
     "output_type": "stream",
     "text": [
      "do you want to drink a coffee\n",
      "\n"
     ]
    }
   ],
   "source": [
    "#question 3\n",
    "file = open(\"sama.txt\")\n",
    "N = 2\n",
    "for line in (file.readlines() [-N:]):\n",
    "    print(line , end=\"\")"
   ]
  },
  {
   "cell_type": "code",
   "execution_count": 54,
   "id": "5bcc306b",
   "metadata": {},
   "outputs": [
    {
     "name": "stdout",
     "output_type": "stream",
     "text": [
      "34\n"
     ]
    }
   ],
   "source": [
    "#question 4\n",
    "def count_words(filepath):\n",
    "   with open(filepath) as f:\n",
    "       data = f.read()\n",
    "       data.replace(\"\", \" \")\n",
    "       return len(data.split(\" \"))\n",
    "print(count_words(\"sama.txt\"))"
   ]
  },
  {
   "cell_type": "code",
   "execution_count": 55,
   "id": "2b884221",
   "metadata": {},
   "outputs": [
    {
     "name": "stdout",
     "output_type": "stream",
     "text": [
      "do you want to drink a coffee\n",
      "\n"
     ]
    }
   ],
   "source": [
    "#question 5\n",
    "file = open(\"sama.txt\")\n",
    "N = 2\n",
    "for line in (file.readlines() [-N:]):\n",
    "    print(line , end=\"\")"
   ]
  },
  {
   "cell_type": "code",
   "execution_count": null,
   "id": "e42f4ec6",
   "metadata": {},
   "outputs": [],
   "source": []
  }
 ],
 "metadata": {
  "kernelspec": {
   "display_name": "Python 3 (ipykernel)",
   "language": "python",
   "name": "python3"
  },
  "language_info": {
   "codemirror_mode": {
    "name": "ipython",
    "version": 3
   },
   "file_extension": ".py",
   "mimetype": "text/x-python",
   "name": "python",
   "nbconvert_exporter": "python",
   "pygments_lexer": "ipython3",
   "version": "3.9.12"
  }
 },
 "nbformat": 4,
 "nbformat_minor": 5
}
